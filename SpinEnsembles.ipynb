{
  "cells": [
    {
      "cell_type": "markdown",
      "metadata": {
        "colab_type": "text",
        "id": "view-in-github"
      },
      "source": [
        "<a href=\"https://colab.research.google.com/github/zanevc5555/physics-applets/blob/main/SpinEnsembles.ipynb\" target=\"_parent\"><img src=\"https://colab.research.google.com/assets/colab-badge.svg\" alt=\"Open In Colab\"/></a>"
      ]
    },
    {
      "cell_type": "markdown",
      "metadata": {},
      "source": [
        "Pauli Spin Matrices\n",
        "\n",
        "#Cant be bothered re-typing this section"
      ]
    },
    {
      "cell_type": "markdown",
      "metadata": {},
      "source": [
        "**bold**\n",
        "# Title\n",
        "## Subtitle\n",
        "<h3>Header\n",
        "\n"
      ]
    },
    {
      "cell_type": "markdown",
      "metadata": {},
      "source": [
        "## Spinors\n",
        "\n",
        "#### Eigenspinors\n",
        "\n",
        "Eigenvectors of the Paul spin matrices, e.g,\n",
        "\n",
        "$\\sigma_z \\bar{\\phi_z} = \\lambda \\bar{\\phi_z} = \\pm \\bar{\\phi_z}$\n",
        "\n",
        "$\\begin{bmatrix} 1 & 0 \\\\ 0 & -1 \\end{bmatrix}\n",
        "\\begin{bmatrix} 1 \\\\ 0 \\end{bmatrix} = \\left | +_z \\right \\rangle$\n",
        "\n",
        "$\\begin{bmatrix} 1 & 0 \\\\ 0 & -1 \\end{bmatrix}\n",
        "\\begin{bmatrix}  0 \\\\ 1 \\end{bmatrix} = -\\left | -_z \\right \\rangle$\n",
        "\n",
        "\n",
        "**In general**, spinor is a two-level quantum state corresponding to spin orientation and is the eigenvector of the spin operator $S_n = \\frac{\\hbar}{2}\\sigma_n$.\n",
        "\n",
        "Form of general spinor: $[\\psi(\\bold{x})] = \\begin{bmatrix} \\phi_1 \\\\ \\phi_2 \\end{bmatrix} = \\phi_1 \\left | +_z \\right \\rangle + \\phi_2 \\left | -_z \\right \\rangle$"
      ]
    }
  ],
  "metadata": {
    "colab": {
      "authorship_tag": "ABX9TyP6mXVHtyf7pCluF+TVs6oJ",
      "include_colab_link": true,
      "provenance": []
    },
    "kernelspec": {
      "display_name": "Python 3",
      "name": "python3"
    },
    "language_info": {
      "name": "python",
      "version": "3.10.12"
    }
  },
  "nbformat": 4,
  "nbformat_minor": 0
}
