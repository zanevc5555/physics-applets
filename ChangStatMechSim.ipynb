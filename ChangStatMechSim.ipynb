{
 "cells": [
  {
   "cell_type": "markdown",
   "metadata": {},
   "source": [
    "# Ideal Gas Simulation\n",
    "\n",
    "### Recreation of Jeffrey Chang's project paper\n",
    "\n",
    "https://jeffjar.me/files/simulating-ideal-gas.pdf\n",
    "\n",
    "Molecular dynamics simulation involving the numerical solution to Newton's laws of motion."
   ]
  },
  {
   "cell_type": "markdown",
   "metadata": {},
   "source": [
    "Jeffrey Chang identifies three tenets of ideal gas theory which is demonstrated by the simulation:\n",
    "1. Non-equilibrium states evolve to equilibrium;\n",
    "2. The gas satisfies the equation of state $PV = Nk_BT$;\n",
    "3. Fluctuations around equilibrium occur, and decrease with large N."
   ]
  },
  {
   "cell_type": "markdown",
   "metadata": {},
   "source": [
    "## Methodology\n",
    "\n",
    "### Description:\n",
    "- N classical particles\n",
    "- Box of equal side length L\n",
    "- Particles are non-interacting \"hard spheres\" and collide elastically\n",
    "- Wall specularly reflects particles\n",
    "\n",
    "### Implementation\n",
    "\n",
    "Rather than iterating through each particle for every time-step, an event-based molecular dynamics engine jumps across time-steps until a collision occurs, and this algorithm is repeated for the duration of the simulation run. An event queue keeps track of upcoming collisions, sorted by time of occurrence."
   ]
  },
  {
   "cell_type": "markdown",
   "metadata": {},
   "source": [
    "<img src=\"ideal-gas-design-diagram.png\">"
   ]
  },
  {
   "cell_type": "code",
   "execution_count": 1,
   "metadata": {},
   "outputs": [],
   "source": [
    "import numpy as np\n",
    "import matplotlib.pyplot as plt\n",
    "\n",
    "#Program Parameters\n",
    "\n",
    "N = 10 #Number of particles\n",
    "L = 100 #Length of box\n",
    "pos = L*np.random.rand(N, 2) #Array of initial particle positions\n",
    "pos += (1-pos)//(0.95*L)*(0.05*L)  #Move particles away from boundary\n",
    "pos -= pos//(0.95*L)*(0.05*L)\n",
    "vel = np.random.rand(N, 2) #Array of initial particle velocities\n",
    "mass = np.ones(N) #Particles masses\n",
    "radius = np.ones(N) #Particle radii\n"
   ]
  },
  {
   "cell_type": "code",
   "execution_count": 21,
   "metadata": {},
   "outputs": [],
   "source": [
    "arr1 = [1,2,3,4,5]\n",
    "arr2 = [6,7,8,9,0]\n",
    "arr = [*zip(arr1, arr2)]\n"
   ]
  },
  {
   "cell_type": "code",
   "execution_count": 22,
   "metadata": {},
   "outputs": [
    {
     "data": {
      "text/plain": [
       "[(1, 6), (2, 7), (3, 8), (4, 9), (5, 0)]"
      ]
     },
     "execution_count": 22,
     "metadata": {},
     "output_type": "execute_result"
    }
   ],
   "source": [
    "arr"
   ]
  },
  {
   "cell_type": "code",
   "execution_count": 24,
   "metadata": {},
   "outputs": [],
   "source": [
    "#Try Object-oriented approach\n",
    "class Particle():\n",
    "    def __init__(self, pos, vel, mass, radius):\n",
    "        self.pos = pos\n",
    "        self.vel = vel\n",
    "        self.m = mass\n",
    "        self.r = radius\n",
    "\n",
    "    def evolve_pos(self, vel, delta_t):\n",
    "        self.pos += vel*delta_t\n",
    "\n",
    "    def update_vel(self, vel):\n",
    "        self.vel = vel\n",
    "\n",
    "    def get_momentum(self):\n",
    "        p = self.m*self.vel\n",
    "        return p\n",
    "           "
   ]
  },
  {
   "cell_type": "code",
   "execution_count": null,
   "metadata": {},
   "outputs": [],
   "source": [
    "class Collision():\n",
    "    def __init__(self, particles, time):\n",
    "        self.P = particles\n",
    "        self.t = time\n",
    "\n",
    "    def collide(self):\n",
    "        part1 = self.P[0]\n",
    "        part2 = self.P[1]\n",
    "        unit = (part1.pos-part2.pos)/np.abs(part1.pos-part2.pos)\n",
    "        momentum = -2.0*part1.m*part2.m/(part1.m+part2.m)*np.dot((part1.vel-part2.vel), unit)*unit\n",
    "        new_vels = [part1.vel+momentum/part1.m, part2.vel-momentum/part2.m]\n",
    "        return new_vels\n",
    "    \n",
    "    #TODO - Collision time should be calculated in State object as it knows timestep value\n",
    "    def when_collision(P):\n",
    "        #Calibrate current time at zero\n",
    "        t = 0.0\n",
    "        #Particle positions\n",
    "        pos1 = P[0].pos\n",
    "        pos2 = P[1].pos\n",
    "\n",
    "        dist = np.abs(P[0].pos - P[1].pos)\n",
    "        \n",
    "\n",
    "    \n",
    "class BoundaryCollision():\n",
    "    def __init__(self, particle, wall, time)\n",
    "        self.P = particle\n",
    "        self.N = unit_normal(wall)\n",
    "        self.t = time\n",
    "\n",
    "    def collide(self):\n",
    "        vel = self.P.vel\n",
    "        new_vel = vel - 2.0*np.dot(vel, self.N)*self.N\n",
    "        return new_vel\n",
    "\n",
    "    def unit_normal(wall):\n",
    "        match wall:\n",
    "            case \"upper\":\n",
    "                return np.array([0,-1])\n",
    "            case \"left\":\n",
    "                return np.array([1,0])\n",
    "            case \"lower\":\n",
    "                return np.array([0,1])\n",
    "            case \"right\":\n",
    "                return np.array([-1,0])\n",
    "            \n",
    "\n"
   ]
  },
  {
   "cell_type": "code",
   "execution_count": null,
   "metadata": {},
   "outputs": [],
   "source": [
    "from itertools import combinations\n",
    "particle_pairs = combinations(list(range(N)), 2)       \n",
    "\n",
    "class EventQueue():\n",
    "    def __init__(self, particle_list):\n",
    "        [[(i,j) for i, j in zip(range(100), range(100))]]"
   ]
  }
 ],
 "metadata": {
  "kernelspec": {
   "display_name": "Python 3",
   "language": "python",
   "name": "python3"
  },
  "language_info": {
   "codemirror_mode": {
    "name": "ipython",
    "version": 3
   },
   "file_extension": ".py",
   "mimetype": "text/x-python",
   "name": "python",
   "nbconvert_exporter": "python",
   "pygments_lexer": "ipython3",
   "version": "3.10.12"
  }
 },
 "nbformat": 4,
 "nbformat_minor": 2
}
