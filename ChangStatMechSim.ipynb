{
 "cells": [
  {
   "cell_type": "markdown",
   "metadata": {},
   "source": [
    "# Ideal Gas Simulation\n",
    "\n",
    "### Recreation of Jefffrey Chang's project paper\n",
    "\n",
    "Molecular dynamics simulation involving the numerical solution to Newton's laws of motion."
   ]
  },
  {
   "cell_type": "markdown",
   "metadata": {},
   "source": [
    "Jeffrey Chang identifies three tenets of ideal gas theory which is demonstrated by the simulation:\n",
    "1. Non-equilibrium states evolve to equilibrium;\n",
    "2. The gas satisfies the equation of state $PV = Nk_BT$;\n",
    "3. Fluctuations around equilibrium occur, and decrease with large N."
   ]
  },
  {
   "cell_type": "markdown",
   "metadata": {},
   "source": [
    "## Methodology\n",
    "\n",
    "### Description:\n",
    "- N classical particles\n",
    "- Box of equal side length L\n",
    "- Particles are non-interacting \"hard spheres\" and collide elastically\n",
    "- Wall specularly reflects particles\n",
    "\n",
    "### Implementation\n",
    "\n",
    "Rather than iterating through each particle for every time-step, an event-based molecular dynamics engine jumps across time-steps until a collision occurs, and this algorithm is repeated for the duration of the simulation run. An event queue keeps track of upcoming collisions, sorted by time of occurrence."
   ]
  },
  {
   "cell_type": "markdown",
   "metadata": {},
   "source": [
    "<img src=\"ideal-gas-design-diagram.png\">"
   ]
  },
  {
   "cell_type": "code",
   "execution_count": null,
   "metadata": {},
   "outputs": [],
   "source": [
    "import numpy as np\n",
    "import matplotlib.pyplot as plt\n",
    "\n",
    "#Program Parameters\n",
    "\n",
    "N = 10 #Number of particles\n",
    "L = 100 #Length of box\n",
    "pos = L*np.random.rand(N, 2) #Array of initial particle positions\n",
    "pos += (1-pos)//(0.95*L)*(0.05*L)  #Move particles away from boundary\n",
    "pos -= pos//(0.95*L)*(0.05*L)\n",
    "vel = np.random.rand(N, 2) #Array of initial particle velocities\n",
    "mass = np.ones(N) #Particles masses\n",
    "radius = np.ones(N) #Particle radii\n"
   ]
  },
  {
   "cell_type": "code",
   "execution_count": 6,
   "metadata": {},
   "outputs": [
    {
     "name": "stdout",
     "output_type": "stream",
     "text": [
      "[[0.04263804 0.09362031]\n",
      " [0.07775462 0.30497992]\n",
      " [0.29581744 0.28862163]\n",
      " [0.4626752  0.40644245]\n",
      " [0.16831705 0.50525248]\n",
      " [0.74104564 0.27877008]\n",
      " [0.79550067 0.05670276]\n",
      " [0.08076648 0.95209397]\n",
      " [0.72009574 0.68465189]\n",
      " [0.04270138 0.55482498]]\n",
      "[[1.04263804 0.09362031]\n",
      " [0.07775462 0.30497992]\n",
      " [0.29581744 0.28862163]\n",
      " [0.4626752  0.40644245]\n",
      " [0.16831705 0.50525248]\n",
      " [0.74104564 0.27877008]\n",
      " [0.79550067 0.05670276]\n",
      " [0.08076648 0.95209397]\n",
      " [0.72009574 0.68465189]\n",
      " [1.04270138 0.55482498]]\n"
     ]
    }
   ],
   "source": [
    "import numpy as np\n",
    "v = np.random.rand(10, 2)\n",
    "print(v)\n",
    "v += (1-v)//0.95\n",
    "print(v)"
   ]
  },
  {
   "cell_type": "code",
   "execution_count": null,
   "metadata": {},
   "outputs": [],
   "source": []
  }
 ],
 "metadata": {
  "kernelspec": {
   "display_name": "Python 3",
   "language": "python",
   "name": "python3"
  },
  "language_info": {
   "codemirror_mode": {
    "name": "ipython",
    "version": 3
   },
   "file_extension": ".py",
   "mimetype": "text/x-python",
   "name": "python",
   "nbconvert_exporter": "python",
   "pygments_lexer": "ipython3",
   "version": "3.10.12"
  }
 },
 "nbformat": 4,
 "nbformat_minor": 2
}
