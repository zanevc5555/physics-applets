{
 "cells": [
  {
   "cell_type": "markdown",
   "metadata": {},
   "source": [
    "# Ideal Gas Simulation\n",
    "\n",
    "### Recreation of Jefffrey Chang's project paper\n",
    "\n",
    "Molecular dynamics simulation involving the numerical solution to Newton's laws of motion."
   ]
  },
  {
   "cell_type": "markdown",
   "metadata": {},
   "source": [
    "Jeffrey Chang identifies three tenets of ideal gas theory which is demonstrated by the simulation:\n",
    "1. Non-equilibrium states evolve to equilibrium;\n",
    "2. The gas satisfies the equation of state $PV = Nk_BT$;\n",
    "3. Fluctuations around equilibrium occur, and decrease with large N."
   ]
  },
  {
   "cell_type": "markdown",
   "metadata": {},
   "source": [
    "## Methodology\n",
    "\n",
    "### Description:\n",
    "- N classical particles\n",
    "- Box of equal side length L\n",
    "- Particles are non-interacting \"hard spheres\" and collide elastically\n",
    "- Wall specularly reflects particles\n",
    "\n",
    "### Implementation\n",
    "\n",
    "Rather than iterating through each particle for every time-step, an event-based molecular dynamics engine jumps across time-steps until a collision occurs, and this algorithm is repeated for the duration of the simulation run. An event queue keeps track of upcoming collisions, sorted by time of occurrence."
   ]
  },
  {
   "cell_type": "markdown",
   "metadata": {},
   "source": [
    "<img src=\"ideal-gas-design-diagram.png\">"
   ]
  },
  {
   "cell_type": "code",
   "execution_count": 1,
   "metadata": {},
   "outputs": [],
   "source": [
    "import numpy as np\n",
    "import matplotlib.pyplot as plt\n",
    "\n",
    "#Program Parameters\n",
    "\n",
    "N = 10 #Number of particles\n",
    "L = 100 #Length of box\n",
    "pos = L*np.random.rand(N, 2) #Array of initial particle positions\n",
    "pos += (1-pos)//(0.95*L)*(0.05*L)  #Move particles away from boundary\n",
    "pos -= pos//(0.95*L)*(0.05*L)\n",
    "vel = np.random.rand(N, 2) #Array of initial particle velocities\n",
    "mass = np.ones(N) #Particles masses\n",
    "radius = np.ones(N) #Particle radii\n"
   ]
  },
  {
   "cell_type": "code",
   "execution_count": 2,
   "metadata": {},
   "outputs": [
    {
     "name": "stdout",
     "output_type": "stream",
     "text": [
      "[[0.41335764 0.7954214 ]\n",
      " [0.46407701 0.51859807]\n",
      " [0.15416766 0.62823197]\n",
      " [0.02216441 0.05199782]\n",
      " [0.42898279 0.56337104]\n",
      " [0.20056121 0.79075962]\n",
      " [0.63868997 0.2906024 ]\n",
      " [0.51781427 0.21697789]\n",
      " [0.06326889 0.25147217]\n",
      " [0.68960721 0.06534139]]\n",
      "[[0.41335764 0.7954214 ]\n",
      " [0.46407701 0.51859807]\n",
      " [0.15416766 0.62823197]\n",
      " [1.02216441 0.05199782]\n",
      " [0.42898279 0.56337104]\n",
      " [0.20056121 0.79075962]\n",
      " [0.63868997 0.2906024 ]\n",
      " [0.51781427 0.21697789]\n",
      " [0.06326889 0.25147217]\n",
      " [0.68960721 0.06534139]]\n"
     ]
    }
   ],
   "source": [
    "\n",
    "v = np.random.rand(10, 2)\n",
    "print(v)\n",
    "v += (1-v)//0.95\n",
    "print(v)"
   ]
  },
  {
   "cell_type": "code",
   "execution_count": 21,
   "metadata": {},
   "outputs": [],
   "source": [
    "arr1 = [1,2,3,4,5]\n",
    "arr2 = [6,7,8,9,0]\n",
    "arr = [*zip(arr1, arr2)]\n"
   ]
  },
  {
   "cell_type": "code",
   "execution_count": 22,
   "metadata": {},
   "outputs": [
    {
     "data": {
      "text/plain": [
       "[(1, 6), (2, 7), (3, 8), (4, 9), (5, 0)]"
      ]
     },
     "execution_count": 22,
     "metadata": {},
     "output_type": "execute_result"
    }
   ],
   "source": [
    "arr"
   ]
  },
  {
   "cell_type": "code",
   "execution_count": 24,
   "metadata": {},
   "outputs": [],
   "source": [
    "#Try Object-oriented approach\n",
    "class Particle():\n",
    "    def __init__(self, pos, vel, mass, radius):\n",
    "        self.pos = pos\n",
    "        self.vel = vel\n",
    "        self.m = mass\n",
    "        self.r = radius\n",
    "\n",
    "    def update_pos(self, pos):\n",
    "        self.pos = pos\n",
    "\n",
    "    def update_vel(self, vel):\n",
    "        self.vel = vel\n",
    "\n",
    "    def get_momentum(self):\n",
    "        p = self.m*self.vel\n",
    "        return p\n",
    "           "
   ]
  },
  {
   "cell_type": "code",
   "execution_count": null,
   "metadata": {},
   "outputs": [],
   "source": [
    "class Collision():\n",
    "    def __init__(self, particles, time):\n",
    "        self.P = particles\n",
    "        self.t = time\n",
    "\n",
    "    def collide(self):\n",
    "        part1 = self.P[0]\n",
    "        part2 = self.P[1]\n",
    "        unit = (part1.pos-part2.pos)/np.abs(part1.pos-part2.pos)\n",
    "        momentum = -2.0*part1.m*part2.m/(part1.m+part2.m)*np.dot((part1.vel-part2.vel), unit)*unit\n",
    "        new_vels = [part1.vel+momentum/part1.m, part2.vel-momentum/part2.m]\n",
    "        return new_vels\n",
    "\n"
   ]
  }
 ],
 "metadata": {
  "kernelspec": {
   "display_name": "Python 3",
   "language": "python",
   "name": "python3"
  },
  "language_info": {
   "codemirror_mode": {
    "name": "ipython",
    "version": 3
   },
   "file_extension": ".py",
   "mimetype": "text/x-python",
   "name": "python",
   "nbconvert_exporter": "python",
   "pygments_lexer": "ipython3",
   "version": "3.10.12"
  }
 },
 "nbformat": 4,
 "nbformat_minor": 2
}
