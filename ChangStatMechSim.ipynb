{
 "cells": [
  {
   "cell_type": "markdown",
   "metadata": {},
   "source": [
    "# Ideal Gas Simulation\n",
    "\n",
    "### Recreation of Jeffrey Chang's project paper\n",
    "\n",
    "https://jeffjar.me/files/simulating-ideal-gas.pdf\n",
    "\n",
    "Molecular dynamics simulation involving the numerical solution to Newton's laws of motion."
   ]
  },
  {
   "cell_type": "markdown",
   "metadata": {},
   "source": [
    "Jeffrey Chang identifies three tenets of ideal gas theory which is demonstrated by the simulation:\n",
    "1. Non-equilibrium states evolve to equilibrium;\n",
    "2. The gas satisfies the equation of state $PV = Nk_BT$;\n",
    "3. Fluctuations around equilibrium occur, and decrease with large N."
   ]
  },
  {
   "cell_type": "markdown",
   "metadata": {},
   "source": [
    "## Methodology\n",
    "\n",
    "### Description:\n",
    "- N classical particles\n",
    "- Box of equal side length L\n",
    "- Particles are non-interacting \"hard spheres\" and collide elastically\n",
    "- Wall specularly reflects particles\n",
    "\n",
    "### Implementation\n",
    "\n",
    "Rather than iterating through each particle for every time-step, an event-based molecular dynamics engine jumps across time-steps until a collision occurs, and this algorithm is repeated for the duration of the simulation run. An event queue keeps track of upcoming collisions, sorted by time of occurrence."
   ]
  },
  {
   "cell_type": "markdown",
   "metadata": {},
   "source": [
    "<img src=\"ideal-gas-design-diagram.png\">"
   ]
  },
  {
   "cell_type": "code",
   "execution_count": 1,
   "metadata": {},
   "outputs": [],
   "source": [
    "import numpy as np\n",
    "import matplotlib.pyplot as plt\n",
    "\n",
    "#Program Parameters\n",
    "\n",
    "N = 10 #Number of particles\n",
    "L = 100 #Length of box\n",
    "pos = L*np.random.rand(N, 2) #Array of initial particle positions\n",
    "pos += (1-pos)//(0.95*L)*(0.05*L)  #Move particles away from boundary\n",
    "pos -= pos//(0.95*L)*(0.05*L)\n",
    "vel = np.random.rand(N, 2) #Array of initial particle velocities\n",
    "mass = np.ones(N) #Particles masses\n",
    "radius = np.ones(N) #Particle radii\n"
   ]
  },
  {
   "cell_type": "code",
   "execution_count": 21,
   "metadata": {},
   "outputs": [],
   "source": [
    "arr1 = [1,2,3,4,5]\n",
    "arr2 = [6,7,8,9,0]\n",
    "arr = [*zip(arr1, arr2)]\n"
   ]
  },
  {
   "cell_type": "code",
   "execution_count": 22,
   "metadata": {},
   "outputs": [
    {
     "data": {
      "text/plain": [
       "[(1, 6), (2, 7), (3, 8), (4, 9), (5, 0)]"
      ]
     },
     "execution_count": 22,
     "metadata": {},
     "output_type": "execute_result"
    }
   ],
   "source": [
    "arr"
   ]
  },
  {
   "cell_type": "markdown",
   "metadata": {},
   "source": [
    "The **State** object controls simulation time, so it must have a method to evolve time.\n",
    "\n",
    "The simulation time stays in the **State** object, so calculation of collision time must be facilitated by **State**."
   ]
  },
  {
   "cell_type": "code",
   "execution_count": null,
   "metadata": {},
   "outputs": [],
   "source": [
    "import numpy as np\n",
    "from itertools import combinations"
   ]
  },
  {
   "cell_type": "code",
   "execution_count": null,
   "metadata": {},
   "outputs": [],
   "source": [
    "\n",
    "\n",
    "class State():\n",
    "    #Create State with particle number, box length, timestep, mass, and radius parameters\n",
    "    #TODO: Change mass and radius parameters from constants to distributions\n",
    "    #TODO: Calculate timestep in terms of precision (box length/timestep),\n",
    "    #      where precision is the number of iterations required for a particle to traverse the length of the box at a speed of 1.\n",
    "    def __init__(self, N, L, delta_t, M, R):\n",
    "        self.N = N\n",
    "        self.L = L\n",
    "        self.timestep = delta_t\n",
    "        self.statetime = 0.0\n",
    "        #Create particles\n",
    "        init_pos = L*np.random.rand(N, 2) #Array of initial particle positions\n",
    "        init_pos += (1-pos)//(0.95*L)*(0.05*L)  #Move particles away from boundary\n",
    "        init_pos -= pos//(0.95*L)*(0.05*L)\n",
    "        init_vel = np.random.rand(N, 2)   \n",
    "        self.particle_list = [Particle(init_pos[i], init_vel[i], M, R, i) for i in range(N)]\n",
    "        #Create Event Queue\n",
    "        event_queue = []\n",
    "        particle_pairs = combinations(list(range(N)), 2)\n",
    "        #Particle-Particle Collisions\n",
    "        for IDs in particle_pairs:\n",
    "            P1 = self.particle_list[IDs[0]]\n",
    "            P2 = self.particle_list[IDs[1]]           \n",
    "            event = Collision((P1, P2))   #Create Collision object\n",
    "            t = collision_timestep(event)   #Calculate time until collision\n",
    "            event_queue.append((event, t))\n",
    "        #Particle-Wall Collisions\n",
    "        for P in self.particle_list:\n",
    "            wall = wall_type(P)\n",
    "\n",
    "    def evolve_particle(self, particle, i=1):\n",
    "        #Move particle\n",
    "        new_pos = particle.pos + particle.vel*self.timestep*i\n",
    "        #Give new position\n",
    "        return new_pos\n",
    "\n",
    "    def update_event_queue(particle_ID):\n",
    "        pass\n",
    "\n",
    "    def collision_timestep(self, event):\n",
    "        if isinstance(event, Collision): \n",
    "            distance = 3*self.R   #Initialise distance to pass the while condition\n",
    "            i = 1 #Iteration variable to compute motion of particles\n",
    "            while(distance > 2*self.R):\n",
    "                #Evolve particle by *i* timesteps               \n",
    "                distance = np.abs(evolve_particle(event.P[0], i) - evolve_particle(event.P[1].pos, i))\n",
    "                i++\n",
    "\n",
    "        elif isinstance(event, BoundaryCollision): \n",
    "            pass\n",
    "\n",
    "        return i*self.timestep #Return number of timesteps until collision\n",
    "    \n",
    "    def wall_type(particle):\n",
    "    \n",
    "    def main():\n",
    "        \n",
    "\n"
   ]
  },
  {
   "cell_type": "code",
   "execution_count": null,
   "metadata": {},
   "outputs": [],
   "source": [
    "class EventQueue():\n",
    "    def __init__(self, queue)"
   ]
  },
  {
   "cell_type": "code",
   "execution_count": 24,
   "metadata": {},
   "outputs": [],
   "source": [
    "#Try Object-oriented approach\n",
    "class Particle():\n",
    "    def __init__(self, pos, vel, mass, radius, id):\n",
    "        self.pos = pos\n",
    "        self.vel = vel\n",
    "        self.m = mass\n",
    "        self.r = radius\n",
    "        self.ID = id\n",
    "\n",
    "    def update_vel(self, vel):\n",
    "        self.vel = vel\n",
    "\n",
    "    def get_momentum(self):\n",
    "        p = self.m*self.vel\n",
    "        return p\n",
    "           "
   ]
  },
  {
   "cell_type": "code",
   "execution_count": null,
   "metadata": {},
   "outputs": [],
   "source": [
    "class Collision():\n",
    "    def __init__(self, particles):\n",
    "        self.P = particles\n",
    "        #TO time OR NOT TO time?\n",
    "\n",
    "    def collide(self):\n",
    "        part1 = self.P[0]\n",
    "        part2 = self.P[1]\n",
    "        unit = (part1.pos-part2.pos)/np.abs(part1.pos-part2.pos)\n",
    "        momentum = -2.0*part1.m*part2.m/(part1.m+part2.m)*np.dot((part1.vel-part2.vel), unit)*unit\n",
    "        new_vels = [part1.vel+momentum/part1.m, part2.vel-momentum/part2.m]\n",
    "        return new_vels\n",
    "    \n",
    "    #TODO - Collision time should be calculated in State object as it knows timestep value\n",
    "    def when_collision(P):\n",
    "        #Calibrate current time at zero\n",
    "        t = 0.0\n",
    "        #Particle positions\n",
    "        pos1 = P[0].pos\n",
    "        pos2 = P[1].pos\n",
    "\n",
    "        dist = np.abs(P[0].pos - P[1].pos)\n",
    "        \n",
    "\n",
    "    \n",
    "class BoundaryCollision():\n",
    "    def __init__(self, particle, wall, time)\n",
    "        self.P = particle\n",
    "        self.N = unit_normal(wall)\n",
    "        self.t = time\n",
    "\n",
    "    def collide(self):\n",
    "        vel = self.P.vel\n",
    "        new_vel = vel - 2.0*np.dot(vel, self.N)*self.N\n",
    "        return new_vel\n",
    "\n",
    "    def unit_normal(wall):\n",
    "        match wall:\n",
    "            case \"upper\":\n",
    "                return np.array([0,-1])\n",
    "            case \"left\":\n",
    "                return np.array([1,0])\n",
    "            case \"lower\":\n",
    "                return np.array([0,1])\n",
    "            case \"right\":\n",
    "                return np.array([-1,0])\n",
    "            \n",
    "\n"
   ]
  },
  {
   "cell_type": "code",
   "execution_count": null,
   "metadata": {},
   "outputs": [],
   "source": [
    "from itertools import combinations\n",
    "particle_pairs = combinations(list(range(N)), 2)       \n",
    "\n",
    "class EventQueue():\n",
    "    def __init__(self, particle_list):\n",
    "        #Cannot calculate time evolution, copy event_queue definition from state\n",
    "        #Add (event, time) tuples to event queue for each pair of particles\n",
    "        for pair in particle_pairs:\n",
    "            P1 = particle_list[pair[0]]\n",
    "            P2 = particle_list[pair[1]]\n",
    "            #Collision object\n",
    "            event = Collision((P1, P2))\n",
    "            #Calculate time until collision\n",
    "\n",
    "\n",
    "    calculate_time(event):\n",
    "            "
   ]
  }
 ],
 "metadata": {
  "kernelspec": {
   "display_name": "Python 3",
   "language": "python",
   "name": "python3"
  },
  "language_info": {
   "codemirror_mode": {
    "name": "ipython",
    "version": 3
   },
   "file_extension": ".py",
   "mimetype": "text/x-python",
   "name": "python",
   "nbconvert_exporter": "python",
   "pygments_lexer": "ipython3",
   "version": "3.10.12"
  }
 },
 "nbformat": 4,
 "nbformat_minor": 2
}
