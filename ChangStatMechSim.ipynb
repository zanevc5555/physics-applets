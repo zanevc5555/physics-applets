{
 "cells": [
  {
   "cell_type": "markdown",
   "metadata": {},
   "source": [
    "# Ideal Gas Simulation\n",
    "\n",
    "### Recreation of Jeffrey Chang's project paper\n",
    "\n",
    "https://jeffjar.me/files/simulating-ideal-gas.pdf\n",
    "\n",
    "Molecular dynamics simulation involving the numerical solution to Newton's laws of motion."
   ]
  },
  {
   "cell_type": "markdown",
   "metadata": {},
   "source": [
    "Jeffrey Chang identifies three tenets of ideal gas theory which is demonstrated by the simulation:\n",
    "1. Non-equilibrium states evolve to equilibrium;\n",
    "2. The gas satisfies the equation of state $PV = Nk_BT$;\n",
    "3. Fluctuations around equilibrium occur, and decrease with large N."
   ]
  },
  {
   "cell_type": "markdown",
   "metadata": {},
   "source": [
    "## Methodology\n",
    "\n",
    "### Description:\n",
    "- N classical particles\n",
    "- Box of equal side length L\n",
    "- Particles are non-interacting \"hard spheres\" and collide elastically\n",
    "- Wall specularly reflects particles\n",
    "\n",
    "### Implementation\n",
    "\n",
    "Rather than iterating through each particle for every time-step, an event-based molecular dynamics engine jumps across time-steps until a collision occurs, and this algorithm is repeated for the duration of the simulation run. An event queue keeps track of upcoming collisions, sorted by time of occurrence."
   ]
  },
  {
   "cell_type": "markdown",
   "metadata": {},
   "source": [
    "<img src=\"ideal-gas-design-diagram.png\">"
   ]
  },
  {
   "cell_type": "code",
   "execution_count": 1,
   "metadata": {},
   "outputs": [],
   "source": [
    "import numpy as np\n",
    "import matplotlib.pyplot as plt\n",
    "\n",
    "#Program Parameters\n",
    "\n",
    "N = 10 #Number of particles\n",
    "L = 100 #Length of box\n",
    "pos = L*np.random.rand(N, 2) #Array of initial particle positions\n",
    "pos += (1-pos)//(0.95*L)*(0.05*L)  #Move particles away from boundary\n",
    "pos -= pos//(0.95*L)*(0.05*L)\n",
    "vel = np.random.rand(N, 2) #Array of initial particle velocities\n",
    "mass = np.ones(N) #Particles masses\n",
    "radius = np.ones(N) #Particle radii\n"
   ]
  },
  {
   "cell_type": "code",
   "execution_count": 21,
   "metadata": {},
   "outputs": [],
   "source": [
    "arr1 = [1,2,3,4,5]\n",
    "arr2 = [6,7,8,9,0]\n",
    "arr = [*zip(arr1, arr2)]\n"
   ]
  },
  {
   "cell_type": "code",
   "execution_count": 22,
   "metadata": {},
   "outputs": [
    {
     "data": {
      "text/plain": [
       "[(1, 6), (2, 7), (3, 8), (4, 9), (5, 0)]"
      ]
     },
     "execution_count": 22,
     "metadata": {},
     "output_type": "execute_result"
    }
   ],
   "source": [
    "arr"
   ]
  },
  {
   "cell_type": "markdown",
   "metadata": {},
   "source": [
    "The **State** object controls simulation time, so it must have a method to evolve time.\n",
    "\n",
    "The simulation time stays in the **State** object, so calculation of collision time must be facilitated by **State**."
   ]
  },
  {
   "cell_type": "code",
   "execution_count": null,
   "metadata": {},
   "outputs": [],
   "source": [
    "import numpy as np\n",
    "from itertools import combinations"
   ]
  },
  {
   "cell_type": "code",
   "execution_count": null,
   "metadata": {},
   "outputs": [],
   "source": [
    "\n",
    "\n",
    "class State():\n",
    "    #Create State with particle number, box length, timestep, mass, and radius parameters\n",
    "    #TODO: Change mass and radius parameters from constants to distributions\n",
    "    #TODO: Calculate timestep in terms of precision (box length/timestep),\n",
    "    #      where precision is the number of iterations required for a particle to traverse the length of the box at a speed of 1.\n",
    "    def __init__(self, N, L, delta_t, M, R):\n",
    "        #Change to constants?\n",
    "        self.N = N\n",
    "        self.L = L\n",
    "        self.timestep = delta_t\n",
    "        self.statetime = 0.0\n",
    "        #Create particles\n",
    "        init_pos = L*np.random.rand(N, 2) #Array of initial particle positions\n",
    "        init_pos += (1-pos)//(0.95*L)*(0.05*L)  #Move particles away from boundary\n",
    "        init_pos -= pos//(0.95*L)*(0.05*L)\n",
    "        init_vel = np.random.rand(N, 2)   \n",
    "        self.particle_list = [Particle(init_pos[i], init_vel[i], M, R, i) for i in range(N)]\n",
    "        #Create Event Queue\n",
    "        event_queue = []\n",
    "        particle_pairs = combinations(list(range(N)), 2)\n",
    "        #Particle-Particle Collisions\n",
    "        for IDs in particle_pairs:\n",
    "            P1 = self.particle_list[IDs[0]]\n",
    "            P2 = self.particle_list[IDs[1]]           \n",
    "            event = Collision((P1, P2))   #Create Collision object\n",
    "            t = collision_timestep(event)   #Calculate time until collision\n",
    "            event_queue.append([event, t, IDs]) #Mutable list with IDs required to update event queue\n",
    "        #Particle-Wall Collisions\n",
    "        for P in self.particle_list:\n",
    "            wall = wall_type(P)\n",
    "            event = BoundaryCollision((P, wall))\n",
    "            t = collision_timestep(event) #Assuming that we start at t=0\n",
    "            event_queue.append([event, t, (P.ID,)])\n",
    "        #Event Queue field\n",
    "        self.queue = event_queue\n",
    "        sort_event_queue()\n",
    "\n",
    "    #NOTE - Boundary Collisions may be implemented simply in the evolve_particle method\n",
    "    # using the argument of geometric mirrors\n",
    "\n",
    "    def evolve_particle(self, particle, duration):\n",
    "        #Move particle\n",
    "        new_pos = particle.pos + particle.vel*duration\n",
    "        #Give new position\n",
    "        return new_pos\n",
    "\n",
    "    def update_event_queue(self, particle_IDs): #TODO - Vectorise?\n",
    "        for event_item in self.queue:\n",
    "            #Find queued events sharing any particle IDs with given argument\n",
    "            if any(ID in event_item[2] for ID in particle_IDs):\n",
    "                event_item[1] = self.statetime + collision_timestep(event_item[0]) #Update collision time\n",
    "        sort_event_queue() # Re-sort event queue\n",
    "\n",
    "    def sort_event_queue(self):\n",
    "        self.queue.sort(key=lambda x: x[1]) #Sort by collision times       \n",
    "\n",
    "    def collision_timestep(self, event):  #NOTE - Infers limit on box length L based on greatest particle radius max(R)\n",
    "        i = 1 # Initialised at '1' to ensure particle travels AT MINIMUM the required distance\n",
    "        if isinstance(event, Collision): \n",
    "            distance = 3*self.R   #Initialise distance to pass the while condition\n",
    "            while(distance > 2*self.R):\n",
    "                #Evolve particle by *i* timesteps               \n",
    "                distance = np.abs(evolve_particle(event.P[0], i*self.timestep) - evolve_particle(event.P[1].pos, i*self.timestep))\n",
    "                i += 1\n",
    "\n",
    "        elif isinstance(event, BoundaryCollision): \n",
    "            index = np.argwhere(event.N)[:]\n",
    "            distance = L/2. #Placeholder to satisfy while condition\n",
    "            while(self.R < distance < L-self.R):\n",
    "                #Evolve particle by *i* timesteps in axis given by 'index'\n",
    "                distance = event.P.pos[index] + evolve_particle(event.P, i*self.timestep)[index]\n",
    "                i += 1\n",
    "\n",
    "        return i*self.timestep #Return time elapsed until collision\n",
    "    \n",
    "    def wall_type(particle): #TODO - Additional types if particle exactly hits the corner, e.g. \"upper-right\"\n",
    "       #Calculate trigonometric angles to each corner\n",
    "       # Starting at the third quadrant, i.e. lower-left corner\n",
    "       x = particle.pos[0]\n",
    "       y = particle.pos[1]\n",
    "       corners = np.arctan2([-y,-x], [-y,L-x], [L-y,L-x], [L-y,-x])\n",
    "       #Find trigonometric angle of particle velocity and compare with corner angles\n",
    "       angle = np.arctan2(particle.vel[1], particle.vel[0])\n",
    "       if angle <= corners[0]:\n",
    "           return \"left\"\n",
    "       elif angle <= corners[1]:\n",
    "           return \"lower\"\n",
    "       elif angle <= corners[2]:\n",
    "           return \"right\"\n",
    "       elif angle <= corners[3]:\n",
    "           return \"upper\"\n",
    "       else:\n",
    "           return \"left\"\n",
    "    \n",
    "    def main(self):  # Algorithm for a singe simulation step\n",
    "        #Evolve simulation time until next event\n",
    "        event = self.queue[0,0]\n",
    "        delta_t = self.queue[0,1] - self.statetime\n",
    "        self.statetime = self.queue[0,1]\n",
    "        for particle in self.particle_list:\n",
    "            particle.pos = evolve_particle(particle, delta_t)\n",
    "        #Initiate current event\n",
    "        [event.P[i].vel = event.collide()[i] for i in len(event.P)]\n",
    "        # Update event queue\n",
    "        update_event_queue(self.queue[0,2])\n",
    "\n",
    "        \n",
    "\n"
   ]
  },
  {
   "cell_type": "code",
   "execution_count": 15,
   "metadata": {},
   "outputs": [
    {
     "name": "stdout",
     "output_type": "stream",
     "text": [
      "0.4636476090008061\n",
      "2.677945044588987\n",
      "-2.677945044588987\n",
      "-0.4636476090008061\n",
      "-3.0419240010986313\n"
     ]
    }
   ],
   "source": [
    "import numpy as np\n",
    "x=1\n",
    "y=2\n",
    "print(np.arctan2(x,y))\n",
    "print(np.arctan2(x,-y))\n",
    "print(np.arctan2(-x,-y))\n",
    "print(np.arctan2(-x,y))\n",
    "print(np.arctan2(-0.1,-1))"
   ]
  },
  {
   "cell_type": "code",
   "execution_count": 13,
   "metadata": {},
   "outputs": [
    {
     "data": {
      "text/plain": [
       "False"
      ]
     },
     "execution_count": 13,
     "metadata": {},
     "output_type": "execute_result"
    }
   ],
   "source": [
    "alist = (1,2,3,4) #NONO\n",
    "values = (6, \"right\")\n",
    "any(item in alist for item in values)"
   ]
  },
  {
   "cell_type": "code",
   "execution_count": 5,
   "metadata": {},
   "outputs": [
    {
     "name": "stdout",
     "output_type": "stream",
     "text": [
      "(0, 1)\n",
      "(0, 2)\n",
      "(1, 2)\n"
     ]
    }
   ],
   "source": [
    "from itertools import combinations\n",
    "pairs = combinations(range(3), 2)\n",
    "for i in pairs:\n",
    "    print(i)"
   ]
  },
  {
   "cell_type": "code",
   "execution_count": 24,
   "metadata": {},
   "outputs": [],
   "source": [
    "#Try Object-oriented approach\n",
    "class Particle():\n",
    "    def __init__(self, pos, vel, mass, radius, id):\n",
    "        self.pos = pos\n",
    "        self.vel = vel\n",
    "        self.m = mass\n",
    "        self.r = radius\n",
    "        self.ID = id\n",
    "\n",
    "    def update_vel(self, vel):\n",
    "        self.vel = vel\n",
    "\n",
    "    def get_momentum(self):\n",
    "        p = self.m*self.vel\n",
    "        return p\n",
    "           "
   ]
  },
  {
   "cell_type": "code",
   "execution_count": null,
   "metadata": {},
   "outputs": [],
   "source": [
    "class Collision():\n",
    "    def __init__(self, particles):\n",
    "        self.P = particles\n",
    "        #TO time OR NOT TO time?\n",
    "\n",
    "    def collide(self):\n",
    "        part1 = self.P[0]\n",
    "        part2 = self.P[1]\n",
    "        unit = (part1.pos-part2.pos)/np.abs(part1.pos-part2.pos)\n",
    "        momentum = -2.0*part1.m*part2.m/(part1.m+part2.m)*np.dot((part1.vel-part2.vel), unit)*unit\n",
    "        new_vels = [part1.vel+momentum/part1.m, part2.vel-momentum/part2.m]\n",
    "        return new_vels\n",
    "\n",
    "    \n",
    "class BoundaryCollision():\n",
    "    def __init__(self, particle, wall):\n",
    "        self.P = [particle]\n",
    "        self.N = unit_normal(wall)\n",
    "\n",
    "    def collide(self):\n",
    "        vel = self.P[0].vel\n",
    "        new_vel = vel - 2.0*np.dot(vel, self.N)*self.N\n",
    "        return [new_vel]\n",
    "\n",
    "    def unit_normal(wall):\n",
    "        match wall:\n",
    "            case \"upper\":\n",
    "                return np.array([0,-1])\n",
    "            case \"left\":\n",
    "                return np.array([1,0])\n",
    "            case \"lower\":\n",
    "                return np.array([0,1])\n",
    "            case \"right\":\n",
    "                return np.array([-1,0])\n",
    "            \n",
    "\n"
   ]
  }
 ],
 "metadata": {
  "kernelspec": {
   "display_name": "Python 3",
   "language": "python",
   "name": "python3"
  },
  "language_info": {
   "codemirror_mode": {
    "name": "ipython",
    "version": 3
   },
   "file_extension": ".py",
   "mimetype": "text/x-python",
   "name": "python",
   "nbconvert_exporter": "python",
   "pygments_lexer": "ipython3",
   "version": "3.10.12"
  }
 },
 "nbformat": 4,
 "nbformat_minor": 2
}
